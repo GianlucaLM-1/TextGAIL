{
 "cells": [
  {
   "cell_type": "code",
   "execution_count": 1,
   "metadata": {},
   "outputs": [],
   "source": [
    "import os\n",
    "import sys\n",
    "import json\n",
    "import tqdm\n",
    "from transformers import AutoTokenizer"
   ]
  },
  {
   "cell_type": "code",
   "execution_count": 2,
   "metadata": {},
   "outputs": [],
   "source": [
    "data_path = \"processed\""
   ]
  },
  {
   "cell_type": "code",
   "execution_count": 3,
   "metadata": {},
   "outputs": [],
   "source": [
    "with open(os.path.join(data_path, \"train_raw.jsonl\")) as f:\n",
    "    train_raw_data = f.readlines()\n",
    "    \n",
    "with open(os.path.join(data_path, \"val_raw.jsonl\")) as f:\n",
    "    val_raw_data = f.readlines()\n",
    "    \n",
    "with open(os.path.join(data_path, \"test_raw.jsonl\")) as f:\n",
    "    test_raw_data = f.readlines()"
   ]
  },
  {
   "cell_type": "code",
   "execution_count": 4,
   "metadata": {},
   "outputs": [],
   "source": [
    "tokenizer = AutoTokenizer.from_pretrained(\"roberta-base\")"
   ]
  },
  {
   "cell_type": "code",
   "execution_count": 5,
   "metadata": {},
   "outputs": [],
   "source": [
    "def process_data(data):\n",
    "    all_dialog_pairs = []\n",
    "\n",
    "    for line in tqdm.tqdm(data):\n",
    "        history_turns = []\n",
    "        dialog = json.loads(line)\n",
    "\n",
    "        for i, turn in enumerate(dialog):\n",
    "\n",
    "            if i==0:\n",
    "                history_turns.append(turn)\n",
    "                continue\n",
    "\n",
    "            source = \"</s>\".join(history_turns)\n",
    "            target = turn\n",
    "\n",
    "            example = {\n",
    "                \"source\": source,\n",
    "                \"target\": target\n",
    "            }\n",
    "\n",
    "            tokens = tokenizer.encode(source + target)\n",
    "            \n",
    "            if len(tokens) > 512:\n",
    "                break\n",
    "            \n",
    "            all_dialog_pairs.append(example)\n",
    "\n",
    "            # post\n",
    "            history_turns.append(turn)\n",
    "            \n",
    "    return all_dialog_pairs"
   ]
  },
  {
   "cell_type": "code",
   "execution_count": 6,
   "metadata": {},
   "outputs": [
    {
     "name": "stderr",
     "output_type": "stream",
     "text": [
      "  9%|▉         | 1053/11118 [00:01<00:18, 554.02it/s]Token indices sequence length is longer than the specified maximum sequence length for this model (536 > 512). Running this sequence through the model will result in indexing errors\n",
      " 10%|▉         | 1109/11118 [00:02<00:19, 518.17it/s]Token indices sequence length is longer than the specified maximum sequence length for this model (514 > 512). Running this sequence through the model will result in indexing errors\n",
      " 24%|██▍       | 2709/11118 [00:04<00:14, 593.21it/s]Token indices sequence length is longer than the specified maximum sequence length for this model (528 > 512). Running this sequence through the model will result in indexing errors\n",
      " 25%|██▍       | 2769/11118 [00:05<00:16, 518.48it/s]Token indices sequence length is longer than the specified maximum sequence length for this model (558 > 512). Running this sequence through the model will result in indexing errors\n",
      " 40%|███▉      | 4400/11118 [00:08<00:12, 544.52it/s]Token indices sequence length is longer than the specified maximum sequence length for this model (543 > 512). Running this sequence through the model will result in indexing errors\n",
      " 41%|████▏     | 4588/11118 [00:08<00:12, 534.72it/s]Token indices sequence length is longer than the specified maximum sequence length for this model (521 > 512). Running this sequence through the model will result in indexing errors\n",
      " 45%|████▍     | 4997/11118 [00:09<00:11, 555.99it/s]Token indices sequence length is longer than the specified maximum sequence length for this model (532 > 512). Running this sequence through the model will result in indexing errors\n",
      " 52%|█████▏    | 5813/11118 [00:10<00:09, 554.37it/s]Token indices sequence length is longer than the specified maximum sequence length for this model (528 > 512). Running this sequence through the model will result in indexing errors\n",
      " 54%|█████▍    | 6043/11118 [00:11<00:09, 539.61it/s]Token indices sequence length is longer than the specified maximum sequence length for this model (569 > 512). Running this sequence through the model will result in indexing errors\n",
      " 59%|█████▊    | 6506/11118 [00:11<00:08, 541.14it/s]Token indices sequence length is longer than the specified maximum sequence length for this model (517 > 512). Running this sequence through the model will result in indexing errors\n",
      " 70%|██████▉   | 7730/11118 [00:14<00:05, 568.82it/s]Token indices sequence length is longer than the specified maximum sequence length for this model (520 > 512). Running this sequence through the model will result in indexing errors\n",
      " 73%|███████▎  | 8084/11118 [00:14<00:05, 580.42it/s]Token indices sequence length is longer than the specified maximum sequence length for this model (515 > 512). Running this sequence through the model will result in indexing errors\n",
      " 73%|███████▎  | 8144/11118 [00:14<00:05, 562.67it/s]Token indices sequence length is longer than the specified maximum sequence length for this model (559 > 512). Running this sequence through the model will result in indexing errors\n",
      " 78%|███████▊  | 8619/11118 [00:15<00:04, 593.55it/s]Token indices sequence length is longer than the specified maximum sequence length for this model (546 > 512). Running this sequence through the model will result in indexing errors\n",
      " 79%|███████▊  | 8737/11118 [00:15<00:04, 561.34it/s]Token indices sequence length is longer than the specified maximum sequence length for this model (537 > 512). Running this sequence through the model will result in indexing errors\n",
      " 89%|████████▉ | 9933/11118 [00:18<00:02, 481.50it/s]Token indices sequence length is longer than the specified maximum sequence length for this model (545 > 512). Running this sequence through the model will result in indexing errors\n",
      " 90%|████████▉ | 9982/11118 [00:18<00:02, 458.23it/s]Token indices sequence length is longer than the specified maximum sequence length for this model (521 > 512). Running this sequence through the model will result in indexing errors\n",
      " 92%|█████████▏| 10250/11118 [00:18<00:01, 520.50it/s]Token indices sequence length is longer than the specified maximum sequence length for this model (529 > 512). Running this sequence through the model will result in indexing errors\n",
      " 93%|█████████▎| 10355/11118 [00:19<00:01, 463.08it/s]Token indices sequence length is longer than the specified maximum sequence length for this model (515 > 512). Running this sequence through the model will result in indexing errors\n",
      "100%|██████████| 11118/11118 [00:20<00:00, 536.11it/s]\n",
      " 21%|██        | 209/1000 [00:00<00:01, 489.31it/s]Token indices sequence length is longer than the specified maximum sequence length for this model (532 > 512). Running this sequence through the model will result in indexing errors\n",
      " 32%|███▏      | 321/1000 [00:00<00:01, 519.79it/s]Token indices sequence length is longer than the specified maximum sequence length for this model (531 > 512). Running this sequence through the model will result in indexing errors\n",
      " 37%|███▋      | 369/1000 [00:00<00:01, 491.86it/s]Token indices sequence length is longer than the specified maximum sequence length for this model (546 > 512). Running this sequence through the model will result in indexing errors\n",
      " 70%|███████   | 702/1000 [00:01<00:00, 542.28it/s]Token indices sequence length is longer than the specified maximum sequence length for this model (526 > 512). Running this sequence through the model will result in indexing errors\n",
      "Token indices sequence length is longer than the specified maximum sequence length for this model (520 > 512). Running this sequence through the model will result in indexing errors\n",
      "100%|██████████| 1000/1000 [00:01<00:00, 539.34it/s]\n",
      " 23%|██▎       | 231/1000 [00:00<00:01, 565.61it/s]Token indices sequence length is longer than the specified maximum sequence length for this model (517 > 512). Running this sequence through the model will result in indexing errors\n",
      " 81%|████████▏ | 813/1000 [00:01<00:00, 568.63it/s]Token indices sequence length is longer than the specified maximum sequence length for this model (520 > 512). Running this sequence through the model will result in indexing errors\n",
      "100%|██████████| 1000/1000 [00:01<00:00, 554.79it/s]\n"
     ]
    }
   ],
   "source": [
    "train_data = process_data(train_raw_data)\n",
    "val_data = process_data(val_raw_data)\n",
    "test_data = process_data(test_raw_data)"
   ]
  },
  {
   "cell_type": "code",
   "execution_count": 7,
   "metadata": {},
   "outputs": [],
   "source": [
    "with open(\"train.jsonl\", \"w\") as f:\n",
    "    for line in train_data:\n",
    "        f.write(json.dumps(line))\n",
    "        f.write(\"\\n\")\n",
    "        \n",
    "with open(\"val.jsonl\", \"w\") as f:\n",
    "    for line in val_data:\n",
    "        f.write(json.dumps(line))\n",
    "        f.write(\"\\n\")\n",
    "        \n",
    "with open(\"test.jsonl\", \"w\") as f:\n",
    "    for line in test_data:\n",
    "        f.write(json.dumps(line))\n",
    "        f.write(\"\\n\")"
   ]
  },
  {
   "cell_type": "code",
   "execution_count": null,
   "metadata": {},
   "outputs": [],
   "source": []
  },
  {
   "cell_type": "code",
   "execution_count": null,
   "metadata": {},
   "outputs": [],
   "source": []
  }
 ],
 "metadata": {
  "kernelspec": {
   "display_name": "Python 3",
   "language": "python",
   "name": "python3"
  },
  "language_info": {
   "codemirror_mode": {
    "name": "ipython",
    "version": 3
   },
   "file_extension": ".py",
   "mimetype": "text/x-python",
   "name": "python",
   "nbconvert_exporter": "python",
   "pygments_lexer": "ipython3",
   "version": "3.7.4"
  }
 },
 "nbformat": 4,
 "nbformat_minor": 4
}
