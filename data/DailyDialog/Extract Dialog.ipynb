{
 "cells": [
  {
   "cell_type": "code",
   "execution_count": 1,
   "metadata": {},
   "outputs": [],
   "source": [
    "import os\n",
    "import sys\n",
    "import json\n",
    "import regex as re\n",
    "import numpy as np\n",
    "np.random.seed(123)"
   ]
  },
  {
   "cell_type": "code",
   "execution_count": 2,
   "metadata": {},
   "outputs": [],
   "source": [
    "punctuations = [r\" ?\", r\" !\", r\" .\", r\" ,\"]\n",
    "\n",
    "def recover_tokenized_text(text):\n",
    "    text = text.strip()\n",
    "    # fix puncutations\n",
    "    for p in punctuations:\n",
    "        text = text.replace(p, p[1:])\n",
    "    text = re.sub(\" (\\u2018|\\u2019|') \", r\"'\", text)\n",
    "    text = re.sub(\"a. m.\", \"a.m.\", text)\n",
    "    text = re.sub(\"p. m.\", \"p.m.\", text)\n",
    "    return text"
   ]
  },
  {
   "cell_type": "code",
   "execution_count": 3,
   "metadata": {},
   "outputs": [],
   "source": [
    "with open(\"dialogues_text.txt\") as f:\n",
    "    data = f.readlines()"
   ]
  },
  {
   "cell_type": "code",
   "execution_count": 4,
   "metadata": {},
   "outputs": [],
   "source": [
    "all_dialogs = []\n",
    "\n",
    "for line in data:\n",
    "    line = line.strip()\n",
    "    dialog = line.split(\"__eou__\")\n",
    "    dialog = dialog[:-1]\n",
    "    dialog = [recover_tokenized_text(turn) for turn in dialog]\n",
    "    \n",
    "    all_dialogs.append(dialog)"
   ]
  },
  {
   "cell_type": "code",
   "execution_count": 5,
   "metadata": {},
   "outputs": [],
   "source": [
    "np.random.shuffle(all_dialogs)"
   ]
  },
  {
   "cell_type": "code",
   "execution_count": 6,
   "metadata": {},
   "outputs": [],
   "source": [
    "train_data = all_dialogs[2000:]\n",
    "val_data = all_dialogs[:1000]\n",
    "test_data = all_dialogs[1000:2000]"
   ]
  },
  {
   "cell_type": "code",
   "execution_count": 7,
   "metadata": {},
   "outputs": [],
   "source": [
    "with open(\"processed/train_raw.jsonl\", \"w\") as f:\n",
    "    for line in train_data:\n",
    "        f.write(json.dumps(line))\n",
    "        f.write(\"\\n\")\n",
    "    \n",
    "with open(\"processed/val_raw.jsonl\", \"w\") as f:\n",
    "    for line in val_data:\n",
    "        f.write(json.dumps(line))\n",
    "        f.write(\"\\n\")\n",
    "    \n",
    "with open(\"processed/test_raw.jsonl\", \"w\") as f:\n",
    "    for line in test_data:\n",
    "        f.write(json.dumps(line))\n",
    "        f.write(\"\\n\")"
   ]
  },
  {
   "cell_type": "code",
   "execution_count": null,
   "metadata": {},
   "outputs": [],
   "source": []
  },
  {
   "cell_type": "code",
   "execution_count": null,
   "metadata": {},
   "outputs": [],
   "source": []
  }
 ],
 "metadata": {
  "kernelspec": {
   "display_name": "Python 3",
   "language": "python",
   "name": "python3"
  },
  "language_info": {
   "codemirror_mode": {
    "name": "ipython",
    "version": 3
   },
   "file_extension": ".py",
   "mimetype": "text/x-python",
   "name": "python",
   "nbconvert_exporter": "python",
   "pygments_lexer": "ipython3",
   "version": "3.7.4"
  }
 },
 "nbformat": 4,
 "nbformat_minor": 2
}
