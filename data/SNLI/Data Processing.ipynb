{
 "cells": [
  {
   "cell_type": "code",
   "execution_count": 1,
   "metadata": {},
   "outputs": [],
   "source": [
    "import os\n",
    "import sys\n",
    "import json"
   ]
  },
  {
   "cell_type": "code",
   "execution_count": 2,
   "metadata": {},
   "outputs": [],
   "source": [
    "data_path = \"snli_1.0/\""
   ]
  },
  {
   "cell_type": "code",
   "execution_count": 3,
   "metadata": {},
   "outputs": [],
   "source": [
    "def extract_data(filename):\n",
    "    all_pairs = []\n",
    "    \n",
    "    with open(filename) as f:\n",
    "        data = f.readlines()\n",
    "    \n",
    "    for line in data:\n",
    "        line = json.loads(line)\n",
    "        source = line['sentence1']\n",
    "        target = line['sentence2']\n",
    "        \n",
    "        example = {\n",
    "            \"source\": source,\n",
    "            \"target\": target\n",
    "        }\n",
    "        if line[\"annotator_labels\"][0] == \"entailment\":\n",
    "            all_pairs.append(example)\n",
    "    \n",
    "    return all_pairs"
   ]
  },
  {
   "cell_type": "code",
   "execution_count": 4,
   "metadata": {},
   "outputs": [],
   "source": [
    "train_data = extract_data(\"snli_1.0/snli_1.0_train.jsonl\")\n",
    "val_data = extract_data(\"snli_1.0/snli_1.0_dev.jsonl\")\n",
    "test_data = extract_data(\"snli_1.0/snli_1.0_test.jsonl\")"
   ]
  },
  {
   "cell_type": "code",
   "execution_count": 5,
   "metadata": {},
   "outputs": [],
   "source": [
    "with open(\"train.jsonl\", \"w\") as f:\n",
    "    for line in train_data:\n",
    "        f.write(json.dumps(line))\n",
    "        f.write(\"\\n\")\n",
    "\n",
    "with open(\"val.jsonl\", \"w\") as f:\n",
    "    for line in val_data:\n",
    "        f.write(json.dumps(line))\n",
    "        f.write(\"\\n\")\n",
    "        \n",
    "with open(\"test.jsonl\", \"w\") as f:\n",
    "    for line in test_data:\n",
    "        f.write(json.dumps(line))\n",
    "        f.write(\"\\n\")"
   ]
  },
  {
   "cell_type": "code",
   "execution_count": null,
   "metadata": {},
   "outputs": [],
   "source": []
  }
 ],
 "metadata": {
  "kernelspec": {
   "display_name": "Python 3",
   "language": "python",
   "name": "python3"
  },
  "language_info": {
   "codemirror_mode": {
    "name": "ipython",
    "version": 3
   },
   "file_extension": ".py",
   "mimetype": "text/x-python",
   "name": "python",
   "nbconvert_exporter": "python",
   "pygments_lexer": "ipython3",
   "version": "3.7.4"
  }
 },
 "nbformat": 4,
 "nbformat_minor": 2
}
