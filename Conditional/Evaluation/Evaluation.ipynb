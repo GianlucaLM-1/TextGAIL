{
 "cells": [
  {
   "cell_type": "code",
   "execution_count": 1,
   "metadata": {},
   "outputs": [],
   "source": [
    "import os\n",
    "import json\n",
    "import torch\n",
    "import numpy as np\n",
    "import collections\n",
    "import tqdm\n",
    "import nltk\n",
    "from nltk.translate.bleu_score import sentence_bleu\n",
    "from nltk.util import ngrams\n",
    "\n",
    "from transformers import AutoTokenizer\n",
    "import matplotlib.pyplot as plt"
   ]
  },
  {
   "cell_type": "code",
   "execution_count": 2,
   "metadata": {},
   "outputs": [],
   "source": [
    "def clean(x):\n",
    "    x = x.strip(\"\\n\")\n",
    "    x = x.strip(\"<s>\").strip(\"</s>\")\n",
    "    return x"
   ]
  },
  {
   "cell_type": "code",
   "execution_count": 3,
   "metadata": {},
   "outputs": [
    {
     "data": {
      "application/vnd.jupyter.widget-view+json": {
       "model_id": "af230ecdeb6e4146ace55b7f846981ec",
       "version_major": 2,
       "version_minor": 0
      },
      "text/plain": [
       "HBox(children=(FloatProgress(value=0.0, description='Downloading', max=481.0, style=ProgressStyle(description_…"
      ]
     },
     "metadata": {},
     "output_type": "display_data"
    },
    {
     "name": "stdout",
     "output_type": "stream",
     "text": [
      "\n"
     ]
    }
   ],
   "source": [
    "tokenizer = AutoTokenizer.from_pretrained(\"roberta-base\")"
   ]
  },
  {
   "cell_type": "code",
   "execution_count": 4,
   "metadata": {},
   "outputs": [],
   "source": [
    "# temperatures = (np.arange(5) + 1) / 5.0\n",
    "temperatures = (np.arange(10) + 1) / 10.0"
   ]
  },
  {
   "cell_type": "code",
   "execution_count": 12,
   "metadata": {},
   "outputs": [],
   "source": [
    "def compute_bleu(inputs, n=2):\n",
    "    if n==3:\n",
    "        weights=(0.333, 0.333, 0.333, 0) \n",
    "    elif n==2:\n",
    "        weights=(0.5, 0.5, 0.0, 0)\n",
    "    elif n==4:\n",
    "        weights=(0.25, 0.25, 0.25, 0.25)\n",
    "    else:\n",
    "        assert False\n",
    "\n",
    "    scores = []\n",
    "    \n",
    "    for item in inputs:\n",
    "        ref = nltk.word_tokenize(item[0].lower())\n",
    "        hyp = nltk.word_tokenize(item[1].lower())\n",
    "        \n",
    "        score = sentence_bleu([ref], hyp, weights=weights)\n",
    "        scores.append(score)\n",
    "    return np.mean(scores)"
   ]
  },
  {
   "cell_type": "code",
   "execution_count": 13,
   "metadata": {},
   "outputs": [],
   "source": [
    "def compute_distinct(inputs, n=4):\n",
    "    counter = collections.Counter()\n",
    "    total_count = 0\n",
    "    \n",
    "    for item in inputs:\n",
    "        hyp = nltk.word_tokenize(item[1].lower())\n",
    "        n_grams = list(ngrams(hyp, n=n))   \n",
    "        counter.update(n_grams)\n",
    "        total_count += len(n_grams)\n",
    "    return len(counter) / total_count"
   ]
  },
  {
   "cell_type": "code",
   "execution_count": 14,
   "metadata": {},
   "outputs": [],
   "source": [
    "def compute_unique(inputs, n=4):\n",
    "    counter = collections.Counter()\n",
    "    \n",
    "    for item in inputs:\n",
    "        tokens = nltk.word_tokenize(item[1].lower())\n",
    "        n_grams = ngrams(tokens, n=n)   \n",
    "        counter.update(n_grams)\n",
    "    return len(counter)"
   ]
  },
  {
   "cell_type": "code",
   "execution_count": 15,
   "metadata": {},
   "outputs": [],
   "source": [
    "def get_human_n_grams(inputs, n=4):\n",
    "    human_n_grams = collections.Counter()\n",
    "\n",
    "    for item in tqdm.tqdm(inputs):\n",
    "        list_n_grams = ngrams(nltk.word_tokenize(item.lower()), n=n)\n",
    "        human_n_grams.update(list_n_grams)\n",
    "        \n",
    "    human_n_grams = {k:v for k,v in human_n_grams.items() if v > 1}\n",
    "    return human_n_grams"
   ]
  },
  {
   "cell_type": "code",
   "execution_count": 16,
   "metadata": {},
   "outputs": [],
   "source": [
    "def compute_sentence_repeat(inputs, human_n_grams, n=4):\n",
    "    scores = []\n",
    "    for item in inputs:\n",
    "        count = 0\n",
    "        tokens = nltk.word_tokenize(item[1].lower())\n",
    "        n_grams = list(ngrams(tokens, n=n))\n",
    "        for n_gram in n_grams:\n",
    "            if n_gram in human_n_grams:\n",
    "                count += 1\n",
    "        if len(n_grams) == 0:\n",
    "            scores.append(0)\n",
    "        else:\n",
    "            scores.append(count/len(n_grams))\n",
    "\n",
    "    return np.mean(scores)"
   ]
  },
  {
   "cell_type": "code",
   "execution_count": 275,
   "metadata": {},
   "outputs": [],
   "source": [
    "task_name = \"CommonGEN\"\n",
    "random_seed = \"1\""
   ]
  },
  {
   "cell_type": "code",
   "execution_count": 276,
   "metadata": {},
   "outputs": [],
   "source": [
    "with open(f\"../../data/{task_name}/train.jsonl\") as f:\n",
    "    train_human_data = f.readlines()\n",
    "    train_human_data = [json.loads(item)['target'] for item in train_human_data]"
   ]
  },
  {
   "cell_type": "code",
   "execution_count": 277,
   "metadata": {},
   "outputs": [],
   "source": [
    "with open(f\"../../data/{task_name}/test.jsonl\") as f:\n",
    "    test_human_data = f.readlines()\n",
    "    test_human_data = [json.loads(item)['target'] for item in test_human_data]"
   ]
  },
  {
   "cell_type": "code",
   "execution_count": 24,
   "metadata": {},
   "outputs": [],
   "source": [
    "method = \"mle\"\n",
    "mle = []\n",
    "\n",
    "for temperature in temperatures:\n",
    "    with open(f\"{task_name}/{method}_{temperature}_{random_seed}.txt\") as f:\n",
    "        data = f.readlines()\n",
    "        data = [json.loads(item) for item in data]\n",
    "\n",
    "    mle.append(compute_unique(data, n=2))\n",
    "\n",
    "method = \"textgail\"\n",
    "textgail = []\n",
    "\n",
    "for temperature in temperatures:\n",
    "    with open(f\"{task_name}/{method}_{temperature}_{random_seed}.txt\") as f:\n",
    "        data = f.readlines()\n",
    "        data = [json.loads(item) for item in data]\n",
    "\n",
    "    textgail.append(compute_unique(data, n=2))"
   ]
  },
  {
   "cell_type": "code",
   "execution_count": 278,
   "metadata": {},
   "outputs": [],
   "source": [
    "human = compute_unique([(item[0], item[1]) for item in data], n=2)"
   ]
  },
  {
   "cell_type": "code",
   "execution_count": 26,
   "metadata": {},
   "outputs": [
    {
     "data": {
      "text/plain": [
       "Text(0, 0.5, 'Unique 2-grams')"
      ]
     },
     "execution_count": 26,
     "metadata": {},
     "output_type": "execute_result"
    },
    {
     "data": {
      "image/png": "[encoded data removed]",
      "text/plain": [
       "<Figure size 432x288 with 1 Axes>"
      ]
     },
     "metadata": {
      "needs_background": "light"
     },
     "output_type": "display_data"
    }
   ],
   "source": [
    "plt.plot(temperatures, [human] * len(mle))\n",
    "plt.plot(temperatures, mle)\n",
    "plt.plot(temperatures, textgail)\n",
    "plt.legend([\"human\", \"MLE\", \"TextGAIL\"])\n",
    "plt.xlabel(\"temperature\")\n",
    "plt.ylabel(\"Unique 2-grams\")\n",
    "# plt.savefig(\"unique2.png\", dpi=300)"
   ]
  },
  {
   "cell_type": "code",
   "execution_count": 177,
   "metadata": {},
   "outputs": [],
   "source": [
    "if task_name == \"ROCStories\":\n",
    "    n = 2\n",
    "else:\n",
    "    n = 2"
   ]
  },
  {
   "cell_type": "code",
   "execution_count": null,
   "metadata": {},
   "outputs": [],
   "source": [
    "method = \"mle\"\n",
    "mle = []\n",
    "for temperature in temperatures:\n",
    "    with open(f\"{task_name}/{method}_{temperature}_{random_seed}.txt\") as f:\n",
    "        data = f.readlines()\n",
    "        data = [json.loads(item) for item in data]\n",
    "        \n",
    "    mle.append(compute_bleu(data, n=n))\n",
    "\n",
    "print(mle)\n",
    "    \n",
    "method = \"textgail\"\n",
    "textgail = []\n",
    "for temperature in temperatures:\n",
    "    with open(f\"{task_name}/{method}_{temperature}_{random_seed}.txt\") as f:\n",
    "        data = f.readlines()\n",
    "        data = [json.loads(item) for item in data]\n",
    "        \n",
    "    textgail.append(compute_bleu(data, n=n))\n",
    "\n",
    "print(textgail)"
   ]
  },
  {
   "cell_type": "code",
   "execution_count": null,
   "metadata": {},
   "outputs": [],
   "source": [
    "plt.plot(temperatures, mle)\n",
    "plt.plot(temperatures, textgail)\n",
    "plt.legend([\"MLE\", \"TextGAIL\"])\n",
    "plt.xlabel(\"temperature\")\n",
    "plt.ylabel(f\"BLEU-{n}\")\n",
    "plt.savefig(f\"bleu{n}.png\", dpi=300)"
   ]
  },
  {
   "cell_type": "code",
   "execution_count": 178,
   "metadata": {},
   "outputs": [],
   "source": [
    "n = 2"
   ]
  },
  {
   "cell_type": "code",
   "execution_count": 280,
   "metadata": {},
   "outputs": [
    {
     "name": "stderr",
     "output_type": "stream",
     "text": [
      "100%|██████████| 39069/39069 [00:02<00:00, 13210.10it/s]\n"
     ]
    }
   ],
   "source": [
    "human_n_grams = get_human_n_grams(train_human_data[:40000], n=n)"
   ]
  },
  {
   "cell_type": "code",
   "execution_count": null,
   "metadata": {},
   "outputs": [],
   "source": [
    "method = \"mle\"\n",
    "mle = []\n",
    "\n",
    "for temperature in temperatures:\n",
    "    with open(f\"{task_name}/{method}_{temperature}_{random_seed}.txt\") as f:\n",
    "        data = f.readlines()\n",
    "        data = [json.loads(item) for item in data]\n",
    "\n",
    "    mle.append(compute_sentence_repeat(data, human_n_grams, n=n))\n",
    "\n",
    "method = \"textgail\"\n",
    "textgail = []\n",
    "\n",
    "for temperature in temperatures:\n",
    "    with open(f\"{task_name}/{method}_{temperature}_{random_seed}.txt\") as f:\n",
    "        data = f.readlines()\n",
    "        data = [json.loads(item) for item in data]\n",
    "\n",
    "    textgail.append(compute_sentence_repeat(data, human_n_grams, n=n))\n",
    "\n",
    "print(mle)\n",
    "print(textgail)"
   ]
  },
  {
   "cell_type": "code",
   "execution_count": null,
   "metadata": {},
   "outputs": [],
   "source": [
    "human = compute_sentence_repeat(zip(test_human_data, test_human_data), human_n_grams, n=2)"
   ]
  },
  {
   "cell_type": "code",
   "execution_count": null,
   "metadata": {},
   "outputs": [],
   "source": [
    "plt.plot(temperatures, [human] * len(mle))\n",
    "plt.plot(temperatures, mle)\n",
    "plt.plot(temperatures, textgail)\n",
    "plt.legend([\"human\", \"MLE\", \"TextGAIL\"])\n",
    "plt.xlabel(\"temperature\")\n",
    "plt.ylabel(f\"Sentence Repeat {n}-grams\")\n",
    "plt.savefig(\"seprep2.png\", dpi=300)"
   ]
  },
  {
   "cell_type": "markdown",
   "metadata": {},
   "source": [
    "## Distinct-1/2"
   ]
  },
  {
   "cell_type": "code",
   "execution_count": null,
   "metadata": {},
   "outputs": [],
   "source": [
    "n = 2\n",
    "\n",
    "method = \"mle\"\n",
    "mle = []\n",
    "\n",
    "for temperature in temperatures:\n",
    "    with open(f\"{task_name}/{method}_{temperature}_{random_seed}.txt\") as f:\n",
    "        data = f.readlines()\n",
    "        data = [json.loads(item) for item in data]\n",
    "\n",
    "    mle.append(compute_distinct(data, n=n))\n",
    "print(mle)\n",
    "\n",
    "method = \"textgail\"\n",
    "textgail = []\n",
    "\n",
    "for temperature in temperatures:\n",
    "    with open(f\"{task_name}/{method}_{temperature}_{random_seed}.txt\") as f:\n",
    "        data = f.readlines()\n",
    "        data = [json.loads(item) for item in data]\n",
    "\n",
    "    textgail.append(compute_distinct(data, n=n))\n",
    "print(textgail)"
   ]
  },
  {
   "cell_type": "code",
   "execution_count": null,
   "metadata": {},
   "outputs": [],
   "source": [
    "human = compute_distinct([(item[0], item[0]) for item in data], n=n)"
   ]
  },
  {
   "cell_type": "code",
   "execution_count": null,
   "metadata": {},
   "outputs": [],
   "source": [
    "plt.plot(temperatures, [human] * len(mle))\n",
    "plt.plot(temperatures, mle)\n",
    "plt.plot(temperatures, textgail)\n",
    "plt.legend([\"human\", \"MLE\", \"TextGAIL\"])\n",
    "plt.xlabel(\"temperature\")\n",
    "plt.ylabel(f\"Distinct {n}-grams\")\n",
    "plt.savefig(f\"{task_name}distinct-{n}.png\", dpi=300)"
   ]
  },
  {
   "cell_type": "markdown",
   "metadata": {},
   "source": [
    "## Beam-Search"
   ]
  },
  {
   "cell_type": "code",
   "execution_count": 27,
   "metadata": {},
   "outputs": [],
   "source": [
    "if task_name == \"ROCStories\":\n",
    "    n = 2\n",
    "else:\n",
    "    n = 2"
   ]
  },
  {
   "cell_type": "code",
   "execution_count": 269,
   "metadata": {},
   "outputs": [
    {
     "data": {
      "text/plain": [
       "'ROCStories/mle_0.1_1.txt'"
      ]
     },
     "execution_count": 269,
     "metadata": {},
     "output_type": "execute_result"
    }
   ],
   "source": []
  },
  {
   "cell_type": "code",
   "execution_count": 306,
   "metadata": {},
   "outputs": [
    {
     "name": "stdout",
     "output_type": "stream",
     "text": [
      "0.16229500486253845\n"
     ]
    }
   ],
   "source": [
    "method = \"textgail\"\n",
    "\n",
    "with open(f\"{task_name}/{method}_beam_4.txt\") as f:\n",
    "    data = f.readlines()\n",
    "    data = [json.loads(item) for item in data]\n",
    "\n",
    "print(compute_bleu(data, n=n))"
   ]
  },
  {
   "cell_type": "code",
   "execution_count": 307,
   "metadata": {},
   "outputs": [
    {
     "name": "stdout",
     "output_type": "stream",
     "text": [
      "3840\n"
     ]
    }
   ],
   "source": [
    "print(compute_unique(data, n=2))"
   ]
  },
  {
   "cell_type": "code",
   "execution_count": 308,
   "metadata": {},
   "outputs": [
    {
     "data": {
      "text/plain": [
       "0.6980312197852808"
      ]
     },
     "execution_count": 308,
     "metadata": {},
     "output_type": "execute_result"
    }
   ],
   "source": [
    "compute_sentence_repeat(data, human_n_grams, n=2)"
   ]
  },
  {
   "cell_type": "code",
   "execution_count": 309,
   "metadata": {},
   "outputs": [
    {
     "data": {
      "text/plain": [
       "0.09516492775891551"
      ]
     },
     "execution_count": 309,
     "metadata": {},
     "output_type": "execute_result"
    }
   ],
   "source": [
    "compute_distinct(data, n=n)"
   ]
  },
  {
   "cell_type": "code",
   "execution_count": 348,
   "metadata": {},
   "outputs": [],
   "source": [
    "filename = f\"CommonGEN/textgail_reinforce2_beam_4.txt\"\n",
    "filename = f\"/home/wuqy1203/Desktop/WorkingProjects/TextGAIL/Conditional/Evaluation/CommonGEN/2mle_beam_4.txt\""
   ]
  },
  {
   "cell_type": "code",
   "execution_count": 349,
   "metadata": {},
   "outputs": [
    {
     "name": "stderr",
     "output_type": "stream",
     "text": [
      "/home/wuqy1203/anaconda3/lib/python3.8/site-packages/nltk/translate/bleu_score.py:516: UserWarning: \n",
      "The hypothesis contains 0 counts of 3-gram overlaps.\n",
      "Therefore the BLEU score evaluates to 0, independently of\n",
      "how many N-gram overlaps of lower order it contains.\n",
      "Consider using lower n-gram order or use SmoothingFunction()\n",
      "  warnings.warn(_msg)\n",
      "/home/wuqy1203/anaconda3/lib/python3.8/site-packages/nltk/translate/bleu_score.py:516: UserWarning: \n",
      "The hypothesis contains 0 counts of 4-gram overlaps.\n",
      "Therefore the BLEU score evaluates to 0, independently of\n",
      "how many N-gram overlaps of lower order it contains.\n",
      "Consider using lower n-gram order or use SmoothingFunction()\n",
      "  warnings.warn(_msg)\n",
      "/home/wuqy1203/anaconda3/lib/python3.8/site-packages/nltk/translate/bleu_score.py:516: UserWarning: \n",
      "The hypothesis contains 0 counts of 2-gram overlaps.\n",
      "Therefore the BLEU score evaluates to 0, independently of\n",
      "how many N-gram overlaps of lower order it contains.\n",
      "Consider using lower n-gram order or use SmoothingFunction()\n",
      "  warnings.warn(_msg)\n"
     ]
    },
    {
     "name": "stdout",
     "output_type": "stream",
     "text": [
      "0.16069196474763123\n"
     ]
    }
   ],
   "source": [
    "method = \"textgail\"\n",
    "with open(filename) as f:\n",
    "    data = f.readlines()\n",
    "    data = [json.loads(item) for item in data]\n",
    "\n",
    "print(compute_bleu(data, n=n))"
   ]
  },
  {
   "cell_type": "code",
   "execution_count": 359,
   "metadata": {},
   "outputs": [
    {
     "data": {
      "text/plain": [
       "0.0003150976802808871"
      ]
     },
     "execution_count": 359,
     "metadata": {},
     "output_type": "execute_result"
    }
   ],
   "source": [
    "compute_distinct([data[0] if np.random.rand() > 0.5 else data[-1] for item in data], n=2)"
   ]
  },
  {
   "cell_type": "code",
   "execution_count": 346,
   "metadata": {},
   "outputs": [
    {
     "data": {
      "text/plain": [
       "0.7047190882566753"
      ]
     },
     "execution_count": 346,
     "metadata": {},
     "output_type": "execute_result"
    }
   ],
   "source": [
    "compute_sentence_repeat(data, human_n_grams, n=2)"
   ]
  },
  {
   "cell_type": "code",
   "execution_count": 347,
   "metadata": {},
   "outputs": [
    {
     "data": {
      "text/plain": [
       "0.08391033320473512"
      ]
     },
     "execution_count": 347,
     "metadata": {},
     "output_type": "execute_result"
    }
   ],
   "source": [
    "0.16782066640947024 / 2"
   ]
  },
  {
   "cell_type": "code",
   "execution_count": null,
   "metadata": {},
   "outputs": [],
   "source": [
    "def compute_distinct(inputs, n=4):\n",
    "    counter = collections.Counter()\n",
    "    total_count = 0\n",
    "    \n",
    "    for item in inputs:\n",
    "        hyp = nltk.word_tokenize(item[1].lower())\n",
    "        n_grams = list(ngrams(hyp, n=n))   \n",
    "        counter.update(n_grams)\n",
    "        total_count += len(n_grams)\n",
    "        \n",
    "    return len(counter) / total_count"
   ]
  }
 ],
 "metadata": {
  "kernelspec": {
   "display_name": "Python 3",
   "language": "python",
   "name": "python3"
  },
  "language_info": {
   "codemirror_mode": {
    "name": "ipython",
    "version": 3
   },
   "file_extension": ".py",
   "mimetype": "text/x-python",
   "name": "python",
   "nbconvert_exporter": "python",
   "pygments_lexer": "ipython3",
   "version": "3.8.3"
  }
 },
 "nbformat": 4,
 "nbformat_minor": 4
}
